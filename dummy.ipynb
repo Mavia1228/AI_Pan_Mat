{
 "cells": [
  {
   "cell_type": "code",
   "execution_count": 1,
   "id": "667f6e58",
   "metadata": {},
   "outputs": [
    {
     "name": "stdout",
     "output_type": "stream",
     "text": [
      "2 0\n"
     ]
    }
   ],
   "source": [
    "#Dimentions\n",
    "import numpy as np \n",
    "arr1 = np.array(2)\n",
    "#arr1 = np.array([2],ndmin = 4)\n",
    "print(arr1,arr1.ndim)"
   ]
  },
  {
   "cell_type": "code",
   "execution_count": 2,
   "id": "8ed99456",
   "metadata": {},
   "outputs": [
    {
     "name": "stdout",
     "output_type": "stream",
     "text": [
      "6\n"
     ]
    }
   ],
   "source": [
    "#Value Accessing\n",
    "#arr2 = np.array([[1,2],[4,5]])\n",
    "#arr2 = np.array([[1,2],[4,5],[6,7]])\n",
    "#arr2 = np.array([[[1,2],[4,5]],[[7,8],[9,10]]])\n",
    "#print(arr2,arr2.ndim)\n",
    "# arr3 = np.array([1,2,3,4,5])\n",
    "# arr4 = np.array([[1,2],[3,4]])\n",
    "# print(arr3[4])\n",
    "# print(arr4[1][1])\n",
    "arr5 = np.array([[[1,2],[3,4]],[[5,6],[7,8]]])\n",
    "print(arr5[1][0][1]) # or print(arr5[1,0,1])"
   ]
  },
  {
   "cell_type": "code",
   "execution_count": 3,
   "id": "77dcdca4",
   "metadata": {},
   "outputs": [
    {
     "name": "stdout",
     "output_type": "stream",
     "text": [
      "[1 3 5 7]\n",
      "[ 7  8  9 10]\n"
     ]
    }
   ],
   "source": [
    "#Slicing\n",
    "arr1 = np.array([1,2,3,4,5,6,7])\n",
    "# print(arr1[1:4])\n",
    "print(arr1[::2])#[start:stop:step]\n",
    "arr2 = np.array([[1,2,3,4,5],[6,7,8,9,10]])\n",
    "print(arr2[1][1:5]) # or print(arr2[1,1:5])"
   ]
  },
  {
   "cell_type": "code",
   "execution_count": 4,
   "id": "d2405d14",
   "metadata": {},
   "outputs": [
    {
     "name": "stdout",
     "output_type": "stream",
     "text": [
      "[b'ab' b'1111' b'2'] <class 'numpy.ndarray'> |S4\n"
     ]
    }
   ],
   "source": [
    "#Data Type\n",
    "arr1 = np.array(['ab',1111,2],dtype = \"S\")\n",
    "print(arr1,type(arr1),arr1.dtype)"
   ]
  },
  {
   "cell_type": "code",
   "execution_count": 5,
   "id": "e27093de",
   "metadata": {},
   "outputs": [
    {
     "name": "stdout",
     "output_type": "stream",
     "text": [
      "[[ 7  9]\n",
      " [12  5]] [[ 6 14]\n",
      " [32  0]]\n"
     ]
    }
   ],
   "source": [
    "A = np.array([[1,2],[4,5]])\n",
    "B = np.array([[6,7],[8,0]])\n",
    "sum = A+B\n",
    "mul = A*B\n",
    "print(sum,mul)"
   ]
  },
  {
   "cell_type": "code",
   "execution_count": 6,
   "id": "08b42e06",
   "metadata": {},
   "outputs": [
    {
     "name": "stdout",
     "output_type": "stream",
     "text": [
      "5.0\n"
     ]
    }
   ],
   "source": [
    "# arr1 = np.max([4,6,2,8,4,9,0])\n",
    "# arr1 = np.min([4,6,2,8,4,9,0])\n",
    "# arr1 = np.mean([4,6,2,8,4,9,0])\n",
    "# arr1 = np.median([4,6,2,8,4,9,0])\n",
    "# arr1 = np.sum([4,6,2,8,4,9,0])\n",
    "\n",
    "ls = list([1,5,3,7,8,3,5,7])\n",
    "arr2 = np.median(ls)\n",
    "\n",
    "print(arr2)"
   ]
  },
  {
   "cell_type": "code",
   "execution_count": 7,
   "id": "c4ccfe59",
   "metadata": {},
   "outputs": [
    {
     "name": "stdout",
     "output_type": "stream",
     "text": [
      "Determinant of A 25\n"
     ]
    }
   ],
   "source": [
    "# Assignment 1\n",
    "#find determinant of {[5,2][10,9]}\n",
    "A = np.array([[5,2],[10,9]])\n",
    "det = ((A[0][0]*A[1][1])-(A[0][1]*A[1][0]))\n",
    "print(f\"Determinant of A {det}\")\n"
   ]
  },
  {
   "cell_type": "code",
   "execution_count": 8,
   "id": "588aeae9",
   "metadata": {},
   "outputs": [
    {
     "name": "stdout",
     "output_type": "stream",
     "text": [
      "Even Numbers are [ 2  4  6  8 10 12]\n"
     ]
    }
   ],
   "source": [
    "# Assignment 2\n",
    "#Even number from 1 to 12\n",
    "b = np.array([1,2,3,4,5,6,7,8,9,10,11,12])\n",
    "print(f\"Even Numbers are {b[1::2]}\")\n"
   ]
  },
  {
   "cell_type": "code",
   "execution_count": 9,
   "id": "3feda7e4",
   "metadata": {},
   "outputs": [
    {
     "name": "stdout",
     "output_type": "stream",
     "text": [
      "Sum of c is 59\n",
      "Average of c is 8.428571428571429\n"
     ]
    }
   ],
   "source": [
    "# Assignment 3\n",
    "#Sum of Array\n",
    "ls = list([5,6,2,9,10,12,15])\n",
    "c = np.sum(ls)\n",
    "print(f\"Sum of c is {c}\")\n",
    "c = c/len(ls)\n",
    "print(f\"Average of c is {c}\")\n"
   ]
  },
  {
   "cell_type": "code",
   "execution_count": 10,
   "id": "3a7d7dbc",
   "metadata": {},
   "outputs": [
    {
     "name": "stdout",
     "output_type": "stream",
     "text": [
      "[-5.  4.]\n"
     ]
    }
   ],
   "source": [
    "# Linear Algebra matrix\n",
    "#2x + 5y = 10\n",
    "#4x + 8y = 12\n",
    "\n",
    "from numpy import linalg, random # For Optimization\n",
    "\n",
    "A = np.array([\n",
    "    [2,5],\n",
    "    [4,8]\n",
    "])\n",
    "B = np.array([10,12])\n",
    "X = linalg.solve(A,B)\n",
    "print(X)\n"
   ]
  },
  {
   "cell_type": "code",
   "execution_count": 11,
   "id": "66503f2e",
   "metadata": {},
   "outputs": [
    {
     "name": "stdout",
     "output_type": "stream",
     "text": [
      "(3, 2) 2\n",
      "[[1 2 3]\n",
      " [4 5 6]]\n",
      "[[1 2 3 4 5 6]]\n"
     ]
    }
   ],
   "source": [
    "# Distribution\n",
    "\n",
    "arr1 = np.array([1,2]) # row 0 column 1 thats why \"shape\" gives (1)\n",
    "arr2 = np.array([[1,2],[3,4],[5,6]])\n",
    "print(arr2.shape,arr2.ndim)\n",
    "\n",
    "arr1 = np.array([1,2,3,4,5,6])\n",
    "print(arr1.reshape(2,3))\n",
    "arr2 = np.array([[1,2],[3,4],[5,6]])\n",
    "print(arr2.reshape(1,6))"
   ]
  },
  {
   "cell_type": "code",
   "execution_count": 12,
   "id": "ebb1e1f9",
   "metadata": {},
   "outputs": [
    {
     "name": "stdout",
     "output_type": "stream",
     "text": [
      "[[1. 0. 0. 0.]\n",
      " [0. 1. 0. 0.]\n",
      " [0. 0. 1. 0.]\n",
      " [0. 0. 0. 1.]]\n",
      "[[0. 0.]\n",
      " [0. 0.]] [0. 0. 0. 0.]\n"
     ]
    }
   ],
   "source": [
    "#Identity Matrix\n",
    "arr1 = np.eye(4,4)\n",
    "print(arr1)\n",
    "# Null Matrix\n",
    "arr1 = np.zeros((2,2))\n",
    "arr2 = np.zeros(4)\n",
    "print(arr1,arr2)"
   ]
  },
  {
   "cell_type": "code",
   "execution_count": 13,
   "id": "b1deefa5",
   "metadata": {},
   "outputs": [
    {
     "name": "stdout",
     "output_type": "stream",
     "text": [
      "Pass by Reference : [40  2  3  4][40  2  3  4]\n",
      "Pass by Value : [40  2  3  4][1 2 3 4]\n"
     ]
    }
   ],
   "source": [
    "# Pass by Refrance\n",
    "arr1 = np.array([1,2,3,4])\n",
    "arr2 = arr1.view() # Or arr1\n",
    "arr1[0] = 40\n",
    "print(f\"Pass by Reference : {arr1}{arr2}\")\n",
    "\n",
    "# Pass by Value\n",
    "arr1 = np.array([1,2,3,4])\n",
    "arr2 = arr1.copy() \n",
    "arr1[0] = 40\n",
    "print(f\"Pass by Value : {arr1}{arr2}\")\n",
    "\n"
   ]
  },
  {
   "cell_type": "code",
   "execution_count": 14,
   "id": "a0272088",
   "metadata": {},
   "outputs": [
    {
     "name": "stdout",
     "output_type": "stream",
     "text": [
      "[1.   1.25 1.5  1.75 2.   2.25 2.5  2.75 3.  ] [ 1. 23. 45.]\n"
     ]
    }
   ],
   "source": [
    "# Linspace\n",
    "arr1 = np.linspace(1,3,9) # (Start value, End value, How many values i want from these values)\n",
    "arr2 = np.linspace(1,45,3)\n",
    "print(arr1,arr2)"
   ]
  },
  {
   "cell_type": "code",
   "execution_count": 15,
   "id": "79cfa31b",
   "metadata": {},
   "outputs": [
    {
     "name": "stdout",
     "output_type": "stream",
     "text": [
      "4\n",
      "3\n",
      "[4 0 1 0]\n",
      "[8 6 6 5]\n"
     ]
    }
   ],
   "source": [
    "# Random\n",
    "from numpy import random\n",
    "a = random.rand(1)\n",
    "x = random.randint(5)\n",
    "print(x)\n",
    "x = random.randint(2,5)\n",
    "print(x)\n",
    "x = random.randint(5,size = 4)\n",
    "print(x)\n",
    "x = random.randint(5,10,size = 4)\n",
    "print(x)"
   ]
  },
  {
   "cell_type": "code",
   "execution_count": 16,
   "id": "a01fff3d",
   "metadata": {},
   "outputs": [
    {
     "name": "stdout",
     "output_type": "stream",
     "text": [
      "You guess a wrong number\n",
      "Your score is 0\n"
     ]
    }
   ],
   "source": [
    "score = 0\n",
    "flag = 1\n",
    "while (flag == 1):\n",
    "    if score == 0:\n",
    "        num = input(\"Guess number between 1 to 5 : \")\n",
    "    else :\n",
    "        num = input(\"Again enter number between 1 to 5 : \")\n",
    "    num = int(num)\n",
    "    if num == (random.randint(1,5)):\n",
    "        score = score + 1\n",
    "        #print(f\"Your score is {score}\")\n",
    "    else :\n",
    "        print(\"You guess a wrong number\")\n",
    "        score = 0\n",
    "        flag = 0\n",
    "print(f\"Your score is {score}\")"
   ]
  },
  {
   "cell_type": "code",
   "execution_count": 17,
   "id": "6f873d1a",
   "metadata": {},
   "outputs": [
    {
     "name": "stdout",
     "output_type": "stream",
     "text": [
      "Dot product of A and B is : [[ 20   9   7]\n",
      " [  8 -15   8]\n",
      " [-24  12   9]]\n",
      "Linear Algebra of A and B : [0.33378562 0.03934871 0.31614654]\n",
      "Determinent of A is -737.0\n",
      "Inverse of A : [[ 0.10447761 -0.00135685 -0.08005427]\n",
      " [ 0.08955224 -0.11804613  0.03527815]\n",
      " [ 0.02985075  0.05156038  0.04206242]]\n"
     ]
    }
   ],
   "source": [
    "import numpy as np\n",
    "\n",
    "def f_det(*values):\n",
    "    return ((values[0]*values[3])-(values[1]*values[2]))\n",
    "\n",
    "\n",
    "A =np.array([\n",
    "    [5,3,7],\n",
    "    [2,-5,8],\n",
    "    [-6,4,9]\n",
    "])\n",
    "B = np.array([4,3,1])\n",
    "C = np.array([\n",
    "    [1,-1,1],\n",
    "    [-1,1,-1],\n",
    "    [1,-1,1]\n",
    "])\n",
    "print(f\"Dot product of A and B is : {A*B}\")\n",
    "Linear_Algebra = np.linalg.solve(A,B)\n",
    "print(f\"Linear Algebra of A and B : {Linear_Algebra}\")\n",
    "a = A[0][0]\n",
    "b = A[0][1]\n",
    "c = A[0][2]\n",
    "d = A[1][0]\n",
    "e = A[1][1]\n",
    "f = A[1][2]\n",
    "g = A[2][0]\n",
    "h = A[2][1]\n",
    "i = A[2][2]\n",
    "D =np.zeros((3,3))\n",
    "D[0][0] = f_det(e,f,h,i)\n",
    "D[0][1] = f_det(d,f,g,i)\n",
    "D[0][2] = f_det(d,e,g,h)\n",
    "D[1][0] = f_det(b,c,h,i)\n",
    "D[1][1] = f_det(a,c,g,i)\n",
    "D[1][2] = f_det(a,b,g,h)\n",
    "D[2][0] = f_det(b,c,e,f)\n",
    "D[2][1] = f_det(a,d,c,f)\n",
    "D[2][2] = f_det(a,b,d,e)\n",
    "\n",
    "determinent = (((A[0][0])*(D[0][0]))-((A[0][1])*(D[0][1]))+((A[0][2])*(D[0][2])))\n",
    "print(f\"Determinent of A is {determinent}\")\n",
    "\n",
    "D = D*C\n",
    "Adg_of_A = np.zeros((3,3))\n",
    "Adg_of_A[0][0] = D[0][0]\n",
    "Adg_of_A[1][1] = D[1][1]\n",
    "Adg_of_A[2][2] = D[2][2]\n",
    "Adg_of_A[0][1] = D[1][0]\n",
    "Adg_of_A[1][0] = D[0][1]\n",
    "Adg_of_A[0][2] = D[2][0]\n",
    "Adg_of_A[2][0] = D[0][2]\n",
    "Adg_of_A[1][2] = D[2][1]\n",
    "Adg_of_A[2][1] = D[1][2]\n",
    "Adg_of_A = Adg_of_A/determinent\n",
    "print(f\"Inverse of A : {Adg_of_A}\")"
   ]
  },
  {
   "cell_type": "code",
   "execution_count": 43,
   "id": "3661f1b9",
   "metadata": {},
   "outputs": [
    {
     "name": "stdout",
     "output_type": "stream",
     "text": [
      "[255 415  64 336 474 101 383 481 204 221 308 157 489 214 398 408 118 256\n",
      " 130  18 397 165 266 112 238 477  99 482 301 192 302 487 489 110 216 304\n",
      " 116 368 356 199 165  26 123 299 467 411 253  76 482 401 152 112 381 284\n",
      " 335 435  56 311 260 288 120 237 295 164  48  16 110 215 338 413 310 492\n",
      " 386 151  76 403 483  88 148 237 357 271 479  74 363 112 479 319 333 246\n",
      " 272 329 194 264 454 199 479 428  63   3]\n",
      "[101 383 157 397 487 199 467 401 311 151 271 479 479 199 479   3]\n"
     ]
    }
   ],
   "source": [
    "arr = random.randint(1,500,size = 100)\n",
    "arr_prime = []\n",
    "count = 0\n",
    "print(arr)\n",
    "for x in range(100):\n",
    "    count = 0\n",
    "    for y in range(arr[x]):\n",
    "        if((y > 0) and ((arr[x] % y) == 0)):\n",
    "            count = count+1\n",
    "    if count <= 1:\n",
    "        arr_prime.append(arr[x])\n",
    "arr_prime = np.array(arr_prime)\n",
    "print(arr_prime)\n",
    "\n",
    "# num = 19\n",
    "# count = 0\n",
    "# for x in range(num):\n",
    "#     if ((x>0) and (num%x == 0)):\n",
    "#         count = count + 1\n",
    "# print(count)"
   ]
  },
  {
   "cell_type": "code",
   "execution_count": 1,
   "id": "3a0e3963",
   "metadata": {},
   "outputs": [],
   "source": [
    "import pandas as pd \n",
    "import numpy as np \n",
    "import matplotlib.pyplot as plt"
   ]
  },
  {
   "cell_type": "code",
   "execution_count": null,
   "id": "d9483799",
   "metadata": {},
   "outputs": [
    {
     "ename": "SyntaxError",
     "evalue": "invalid syntax (641578107.py, line 4)",
     "output_type": "error",
     "traceback": [
      "  \u001b[36mCell\u001b[39m\u001b[36m \u001b[39m\u001b[32mIn[33]\u001b[39m\u001b[32m, line 4\u001b[39m\n\u001b[31m    \u001b[39m\u001b[31m\"Employment\":[\"Senior AI Engineer\",\"Ai Engineer\",,\"Ml Engineer\"]\u001b[39m\n                                                     ^\n\u001b[31mSyntaxError\u001b[39m\u001b[31m:\u001b[39m invalid syntax\n"
     ]
    }
   ],
   "source": [
    "arr = {\n",
    "    \"Name\":[\"Ameer\",\"Mavia\",\"Hamza\",\"Ahmed\"],\n",
    "        \"Age\":[25,24,23,22],\n",
    "        \"Employment\":[\"Senior AI Engineer\",\"Ai Engineer\",\"Data Scientist\",\"Ml Engineer\"]\n",
    "}\n",
    "df1 = pd.DataFrame(arr)\n",
    "df2 = pd.DataFrame(arr,index=(1,2,3,4))\n",
    "df3 = pd.DataFrame(arr,index=(\"Day1\",\"Day2\",\"Day3\",\"Day4\"))\n",
    "#print(df1)\n",
    "#print(df2)\n",
    "print(df3)\n"
   ]
  },
  {
   "cell_type": "code",
   "execution_count": 15,
   "id": "60f3becd",
   "metadata": {},
   "outputs": [
    {
     "name": "stdout",
     "output_type": "stream",
     "text": [
      "1    Ameer\n",
      "2    Mavia\n",
      "3    Hamza\n",
      "4    Ahmed\n",
      "dtype: object\n"
     ]
    }
   ],
   "source": [
    "arr =[\"Ameer\",\"Mavia\",\"Hamza\",\"Ahmed\"]\n",
    "df1 = pd.Series(arr,index=(1,2,3,4))\n",
    "print(df1)"
   ]
  },
  {
   "cell_type": "code",
   "execution_count": null,
   "id": "9f8ec35e",
   "metadata": {},
   "outputs": [
    {
     "data": {
      "image/png": "[encoded data removed]",
      "text/plain": [
       "<Figure size 640x480 with 1 Axes>"
      ]
     },
     "metadata": {},
     "output_type": "display_data"
    }
   ],
   "source": [
    "arr = np.array([1,2,3,4,5,6])\n",
    "y= np.array([10,20,30,40])\n",
    "plt1 = plt.plot(y , marker = \"p\", color = \"red\")\n",
    "plt1 = plt.plot(arr , marker = \"p\", color = \"blue\")\n",
    "plt.show(plt1)\n",
    "plt.show(plt1)\n"
   ]
  },
  {
   "cell_type": "code",
   "execution_count": null,
   "id": "43aad628",
   "metadata": {},
   "outputs": [
    {
     "data": {
      "image/png": "[encoded data removed]",
      "text/plain": [
       "<Figure size 640x480 with 1 Axes>"
      ]
     },
     "metadata": {},
     "output_type": "display_data"
    }
   ],
   "source": [
    "x = np.array([0,1,2,3,4,5])\n",
    "y = np.array([0,10,20,25,40,50])\n",
    "z = np.array([0,10,20,30,40,50])\n",
    "#by default it will take the first array as x axis and second array as y axis\n",
    "plt1 = plt.plot(x,y,marker = \"o\")\n",
    "plt1 = plt.plot(z,marker =\"*\",mec = \"r\",mfc = \"w\",ms = 10)\n",
    "plt.savefig(\"first plot.png\")\n",
    "plt.savefig(\"first plot.pdf\") #png, jpg, pdf, svg\n",
    "#in Pdf format it will save the plot in vector format\n",
    "plt.show(plt1)\n",
    "plt.show(plt1)\n"
   ]
  },
  {
   "cell_type": "code",
   "execution_count": 100,
   "id": "d68b0a43",
   "metadata": {},
   "outputs": [
    {
     "name": "stdout",
     "output_type": "stream",
     "text": [
      "      level\n",
      "0         0\n",
      "1         0\n",
      "2         0\n",
      "3         0\n",
      "4         1\n",
      "...     ...\n",
      "6622      1\n",
      "6623      1\n",
      "6624      1\n",
      "6625      1\n",
      "6626      0\n",
      "\n",
      "[6627 rows x 1 columns]\n",
      "      value\n",
      "0     13215\n",
      "1      3405\n",
      "2       978\n",
      "3       687\n",
      "4      1974\n",
      "...     ...\n",
      "6622    468\n",
      "6623   1320\n",
      "6624    264\n",
      "6625    936\n",
      "6626  24012\n",
      "\n",
      "[6627 rows x 1 columns]\n"
     ]
    },
    {
     "data": {
      "image/png": "[encoded data removed]",
      "text/plain": [
       "<Figure size 640x480 with 1 Axes>"
      ]
     },
     "metadata": {},
     "output_type": "display_data"
    }
   ],
   "source": [
    "arr1 = pd.read_csv(\"business.csv\", usecols = [\"level\"],encoding = \"latin\") \n",
    "\n",
    "arr2 = pd.read_csv(\"business.csv\", usecols = [\"value\"],encoding = \"latin\") \n",
    "\n",
    "\n",
    "# Encoding (utf_8, latin1, cp1252)\n",
    "print(arr1)\n",
    "print(arr2)\n",
    "plt1 = plt.plot(arr1,arr2)\n",
    "#plt1 = plt.plot(arr2)\n",
    "plt.show(plt1)"
   ]
  },
  {
   "cell_type": "code",
   "execution_count": null,
   "id": "c0a7a781",
   "metadata": {},
   "outputs": [],
   "source": [
    "name = [\"ameer\",\"mavia\",\"Saad\",\"Hamza\",\"Ali\",\"Ahmed\",\"Aqeel\",\"Usman\",\"Tanveer\"]\n",
    "age = [25,24,23,22,21,20,19,18,17]\n",
    "dic = {\"name\":name,\"age\":age}\n",
    "df = pd.DataFrame(dic)\n",
    "#print(df)\n",
    "# df.to_csv(\"./data/details.csv\")\n",
    "# df1 = pd.read_csv(\"data/details.csv\")\n",
    "# print(df1)\n",
    "# df.head(6)\n",
    "# df.tail(2)\n",
    "#df.describe()\n",
    "df[\"name\"] = df[\"name\"].astype(\"string\")\n",
    "df[\"age\"] = df[\"age\"].astype(\"float\")\n",
    "df.to_csv(\"./data/details.csv\")\n",
    "df.dropna()# it will remove the row that has null value in any column \n",
    "df.fillna()# it will fill the null value with 0 or any value you want to put in the null value\n",
    "df[\"age\"].fillna()\n",
    "\n",
    "\n"
   ]
  },
  {
   "cell_type": "code",
   "execution_count": 25,
   "id": "8616754b",
   "metadata": {},
   "outputs": [],
   "source": [
    "df.rename(columns={\"age\":\"Age\"},inplace = True)\n",
    "df.rename(columns={\"name\":\"Name\"},inplace = True)"
   ]
  },
  {
   "cell_type": "code",
   "execution_count": null,
   "id": "da8495cd",
   "metadata": {},
   "outputs": [
    {
     "data": {
      "text/html": [
       "<div>\n",
       "<style scoped>\n",
       "    .dataframe tbody tr th:only-of-type {\n",
       "        vertical-align: middle;\n",
       "    }\n",
       "\n",
       "    .dataframe tbody tr th {\n",
       "        vertical-align: top;\n",
       "    }\n",
       "\n",
       "    .dataframe thead th {\n",
       "        text-align: right;\n",
       "    }\n",
       "</style>\n",
       "<table border=\"1\" class=\"dataframe\">\n",
       "  <thead>\n",
       "    <tr style=\"text-align: right;\">\n",
       "      <th></th>\n",
       "      <th>Name</th>\n",
       "      <th>Age</th>\n",
       "    </tr>\n",
       "  </thead>\n",
       "  <tbody>\n",
       "    <tr>\n",
       "      <th>0</th>\n",
       "      <td>ameer</td>\n",
       "      <td>25.0</td>\n",
       "    </tr>\n",
       "    <tr>\n",
       "      <th>1</th>\n",
       "      <td>mavia</td>\n",
       "      <td>24.0</td>\n",
       "    </tr>\n",
       "    <tr>\n",
       "      <th>2</th>\n",
       "      <td>Saad</td>\n",
       "      <td>23.0</td>\n",
       "    </tr>\n",
       "    <tr>\n",
       "      <th>3</th>\n",
       "      <td>Hamza</td>\n",
       "      <td>22.0</td>\n",
       "    </tr>\n",
       "    <tr>\n",
       "      <th>4</th>\n",
       "      <td>Ali</td>\n",
       "      <td>21.0</td>\n",
       "    </tr>\n",
       "    <tr>\n",
       "      <th>5</th>\n",
       "      <td>Ahmed</td>\n",
       "      <td>20.0</td>\n",
       "    </tr>\n",
       "    <tr>\n",
       "      <th>6</th>\n",
       "      <td>Aqeel</td>\n",
       "      <td>19.0</td>\n",
       "    </tr>\n",
       "    <tr>\n",
       "      <th>7</th>\n",
       "      <td>Usman</td>\n",
       "      <td>18.0</td>\n",
       "    </tr>\n",
       "    <tr>\n",
       "      <th>8</th>\n",
       "      <td>Tanveer</td>\n",
       "      <td>17.0</td>\n",
       "    </tr>\n",
       "  </tbody>\n",
       "</table>\n",
       "</div>"
      ],
      "text/plain": [
       "      Name   Age\n",
       "0    ameer  25.0\n",
       "1    mavia  24.0\n",
       "2     Saad  23.0\n",
       "3    Hamza  22.0\n",
       "4      Ali  21.0\n",
       "5    Ahmed  20.0\n",
       "6    Aqeel  19.0\n",
       "7    Usman  18.0\n",
       "8  Tanveer  17.0"
      ]
     },
     "execution_count": 30,
     "metadata": {},
     "output_type": "execute_result"
    }
   ],
   "source": [
    "#df.drop(columns = [\"Age\"])\n",
    "df.drop([0],axis = 0) # it will drop the row with all the index provided\n",
    "#10 row 10 col"
   ]
  },
  {
   "cell_type": "code",
   "execution_count": 10,
   "id": "2c14e060",
   "metadata": {},
   "outputs": [],
   "source": [
    "data = {\n",
    "    \"Sr#\": range(1, 11),\n",
    "    \"Name\": [\"Ali\", \"Sara\", \"John\", \"Emma\", \"Omar\", \"Zara\", \"David\", \"Lina\", \"Amir\", \"Nora\"],\n",
    "    \"F_Name\": [\"Ahmed\", \"Khalid\", \"Smith\", \"Brown\", \"Khan\", \"Raza\", \"Miller\", \"Ali\", \"Hassan\", \"Malik\"],\n",
    "    \"Age\": [25, 28, 30, 26, 32, 29, 35, 24, 31, 27],\n",
    "    \"Qualification\": [\"BS\", \"MS\", \"BS\", \"PhD\", \"MS\", \"BS\", \"PhD\", \"BS\", \"MS\", \"BS\"],\n",
    "    \"Salary\": [50000, 60000, 55000, 70000, 62000, 51000, 72000, 48000, 63000, 52000],\n",
    "    \"City\": [\"Lahore\", \"Karachi\", \"New York\", \"London\", \"Islamabad\", \"Lahore\", \"Chicago\", \"Karachi\", \"Dubai\", \"Lahore\"],\n",
    "    \"Working_Hours\": [40, 38, 42, 36, 40, 39, 45, 37, 41, 38],\n",
    "    \"Year_of_Exp\": [2, 4, 5, 6, 3, 2, 7, 1, 4, 3],\n",
    "    \"Level\": [\"Junior\", \"Mid\", \"Mid\", \"Senior\", \"Mid\", \"Junior\", \"Senior\", \"Junior\", \"Mid\", \"Mid\"]\n",
    "}\n",
    "df = pd.DataFrame(data)\n",
    "df.to_csv(\"data/Employee.csv\")\n",
    "dfd = pd.read_csv(\"data/Employee.csv\")\n",
    "dfd.to_csv(\"data/EmployeeD.csv\")\n",
    "\n"
   ]
  },
  {
   "cell_type": "code",
   "execution_count": null,
   "id": "cc048dbc",
   "metadata": {},
   "outputs": [
    {
     "data": {
      "text/plain": [
       "np.float64(56000.0)"
      ]
     },
     "execution_count": 9,
     "metadata": {},
     "output_type": "execute_result"
    }
   ],
   "source": [
    "import matplotlib.pyplot as plt\n",
    "import pandas as pd\n",
    "df = pd.read_csv(\"data/EmployeeD.csv\")\n",
    "# df.fillna(\"NULL\",inplace = True)\n",
    "df.dropna(inplace = True)\n",
    "# plt1 = plt.plot(df[\"Year_of_Exp\"],df[\"Salary\"])\n",
    "# plt.show(plt1)\n",
    "df.drop(columns=[\"Unnamed: 0\",\"Unnamed: 0.1\",\"Unnamed: 0.2\"],inplace = True)\n",
    "#df[\"Salary\"].mean()\n",
    "#df[\"Salary\"].median()\n",
    "#df[\"Salary\"].mode()"
   ]
  },
  {
   "cell_type": "code",
   "execution_count": 17,
   "id": "57bd574f",
   "metadata": {},
   "outputs": [
    {
     "data": {
      "image/png": "[encoded data removed]",
      "text/plain": [
       "<Figure size 640x480 with 1 Axes>"
      ]
     },
     "metadata": {},
     "output_type": "display_data"
    }
   ],
   "source": [
    "#Univeriant: [\"Marks\"]\n",
    "#Biveriant: [\"Marks\",\"Study Hours\"]\n",
    "#Multiveriant: [\"Marks\",\"Study Hours\",\"Attendance\"]\n",
    "import numpy as np\n",
    "import pandas as pd \n",
    "import matplotlib.pyplot as plt\n",
    "data = {\n",
    "    \"Marks\": [85, 78, 92, 70 ],\n",
    "    \"Study Hours\": [4, 3, 5, 2],\n",
    "    \"z\": [80, 70, 85, 60],\n",
    "    \"Attendance\": [90, 85, 95, 75]\n",
    "}\n",
    "width = 0.2\n",
    "df = pd.DataFrame(data)\n",
    "p = np.arange(len(df[\"Marks\"]))\n",
    "p1 = [j+width for j in p]\n",
    "# plt.xlabel(\"Study Hours\",fontsize = 10)\n",
    "# plt.ylabel(\"Marks\")\n",
    "# plt.title(\"Result\",fontsize = 20)\n",
    "# x,y\n",
    "# p1,z\n",
    "plt.bar(df[\"Study Hours\"],df[\"Marks\"],\n",
    "        width,\n",
    "        align=\"center\",\n",
    "        color=['r'])\n",
    "plt.bar(p1,df[\"z\"],\n",
    "        width,\n",
    "        align=\"center\",\n",
    "        color=['y'])\n",
    "plt.legend([\"Marit\",\"Mavia\"])\n",
    "plt.xticks(p+width/2,df[\"Study Hours\"])\n",
    "plt.show()\n"
   ]
  }
 ],
 "metadata": {
  "kernelspec": {
   "display_name": "std_venv",
   "language": "python",
   "name": "python3"
  },
  "language_info": {
   "codemirror_mode": {
    "name": "ipython",
    "version": 3
   },
   "file_extension": ".py",
   "mimetype": "text/x-python",
   "name": "python",
   "nbconvert_exporter": "python",
   "pygments_lexer": "ipython3",
   "version": "3.13.2"
  }
 },
 "nbformat": 4,
 "nbformat_minor": 5
}
